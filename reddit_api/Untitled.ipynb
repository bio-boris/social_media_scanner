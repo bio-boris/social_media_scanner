{
 "cells": [
  {
   "cell_type": "code",
   "execution_count": 2,
   "metadata": {
    "ExecuteTime": {
     "end_time": "2017-08-19T20:54:30.988679Z",
     "start_time": "2017-08-19T20:54:30.983334Z"
    },
    "collapsed": true
   },
   "outputs": [],
   "source": [
    "import praw\n",
    "\n",
    "ci =\"vyRCFHr35LLQZw\"\n",
    "secret = \"GaZkaIYPYdJ-OG7qdjVfqg_fPDY\"\n",
    "\n",
    "reddit = praw.Reddit(client_id='my client id',\n",
    "                     client_secret='my client secret',\n",
    "                     user_agent='my user agent')"
   ]
  },
  {
   "cell_type": "code",
   "execution_count": 3,
   "metadata": {
    "ExecuteTime": {
     "end_time": "2017-08-19T20:54:36.091218Z",
     "start_time": "2017-08-19T20:54:36.086456Z"
    }
   },
   "outputs": [
    {
     "name": "stdout",
     "output_type": "stream",
     "text": [
      "True\n"
     ]
    }
   ],
   "source": [
    "print(reddit.read_only)"
   ]
  },
  {
   "cell_type": "code",
   "execution_count": 15,
   "metadata": {
    "ExecuteTime": {
     "end_time": "2017-08-19T21:07:42.653691Z",
     "start_time": "2017-08-19T21:07:42.647250Z"
    }
   },
   "outputs": [],
   "source": [
    "import twitter\n",
    "\n",
    "key='HxC75XpsCm7ZASuxlROfneTP8'\n",
    "secret='ps108XgQ8fKl1o1SP0ATFN9WqXXFyaD8SjJn6e0Gy08pp2otOi'\n",
    "token='364418406-qukuwMb8INFBu6O5B4n6NADa7v771O0ERu2Y9xaq'\n",
    "token_secret='xmgtzf0LW73c4n35CUfw7SUK2xy3aJ18DxlMqb7iYDzRN'\n",
    "\n",
    "api = twitter.Api(consumer_key=key,\n",
    "                      consumer_secret=secret,\n",
    "                      access_token_key=token,\n",
    "                      access_token_secret=token_secret)\n"
   ]
  },
  {
   "cell_type": "code",
   "execution_count": 64,
   "metadata": {
    "ExecuteTime": {
     "end_time": "2017-08-20T02:55:20.209924Z",
     "start_time": "2017-08-20T02:55:19.589187Z"
    }
   },
   "outputs": [],
   "source": [
    "rq=\"q=boris%20sadkhin%20since%3A2010-08-10%20until%3A2017-08-16&src=typd\"\n",
    "\n",
    "searches = api.GetSearch(term=\"sadkhin\", raw_query=None, geocode=None, since_id=None, max_id=None, until=None, since=None, count=15, lang=None, locale=None, result_type='mixed', include_entities=None)\n",
    "\n",
    "\n",
    "first_status = searches[0]"
   ]
  },
  {
   "cell_type": "code",
   "execution_count": 74,
   "metadata": {
    "ExecuteTime": {
     "end_time": "2017-08-20T02:58:47.515414Z",
     "start_time": "2017-08-20T02:58:47.489072Z"
    }
   },
   "outputs": [
    {
     "name": "stdout",
     "output_type": "stream",
     "text": [
      "created_at \t Thu Aug 17 17:33:39 +0000 2017\n",
      "favorite_count \t 26\n",
      "hashtags \t []\n",
      "id \t 898236394027589632\n",
      "id_str \t 898236394027589632\n",
      "lang \t und\n",
      "retweet_count \t 10\n",
      "source \t <a href=\"http://www.facebook.com/twitter\" rel=\"nofollow\">Facebook</a>\n",
      "text \t https://t.co/XT08xa9QHd\n",
      "urls \t [{'expanded_url': 'http://fb.me/1BMFVvTs7', 'url': 'https://t.co/XT08xa9QHd'}]\n",
      "user \t {'created_at': 'Sun Jul 24 14:07:02 +0000 2011', 'description': 'Fast & Effective Approach to #WeightLoss! Visit one of our #clinics @ #Brooklyn, #Manhattan, and #Queens', 'favourites_count': 22, 'followers_count': 2357, 'friends_count': 38, 'geo_enabled': True, 'id': 341517551, 'lang': 'en', 'listed_count': 1, 'location': 'Brooklyn, Queens, Manhattan', 'name': 'SadkhinComplex', 'profile_background_color': 'C0DEED', 'profile_background_image_url': 'http://pbs.twimg.com/profile_background_images/564919557299531776/QJXGpn4R.jpeg', 'profile_banner_url': 'https://pbs.twimg.com/profile_banners/341517551/1423522410', 'profile_image_url': 'http://pbs.twimg.com/profile_images/564875376019533824/y5Y1Ps5d_normal.png', 'profile_link_color': '0084B4', 'profile_sidebar_fill_color': 'DDEEF6', 'profile_text_color': '333333', 'screen_name': 'Sadkhin_Complex', 'statuses_count': 1269, 'time_zone': 'Eastern Time (US & Canada)', 'url': 'http://t.co/Zp6SrJHdmV', 'utc_offset': -14400}\n",
      "user_mentions \t []\n",
      "SadkhinComplex\n"
     ]
    }
   ],
   "source": [
    "import json\n",
    "\n",
    "\n",
    "json1_data = json.loads(first_status.AsJsonString())\n",
    "\n",
    "for data in json1_data:\n",
    "    print(data,\"\\t\",json1_data[data])\n",
    "    \n",
    "print (json1_data['user']['name'])\n"
   ]
  }
 ],
 "metadata": {
  "kernelspec": {
   "display_name": "Python 3",
   "language": "python",
   "name": "python3"
  },
  "language_info": {
   "codemirror_mode": {
    "name": "ipython",
    "version": 3
   },
   "file_extension": ".py",
   "mimetype": "text/x-python",
   "name": "python",
   "nbconvert_exporter": "python",
   "pygments_lexer": "ipython3",
   "version": "3.6.1"
  },
  "toc": {
   "colors": {
    "hover_highlight": "#DAA520",
    "navigate_num": "#000000",
    "navigate_text": "#333333",
    "running_highlight": "#FF0000",
    "selected_highlight": "#FFD700",
    "sidebar_border": "#EEEEEE",
    "wrapper_background": "#FFFFFF"
   },
   "moveMenuLeft": true,
   "nav_menu": {
    "height": "12px",
    "width": "252px"
   },
   "navigate_menu": true,
   "number_sections": true,
   "sideBar": true,
   "threshold": 4,
   "toc_cell": false,
   "toc_section_display": "block",
   "toc_window_display": false,
   "widenNotebook": false
  }
 },
 "nbformat": 4,
 "nbformat_minor": 2
}
